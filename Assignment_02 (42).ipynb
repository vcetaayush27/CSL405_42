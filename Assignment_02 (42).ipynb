{
  "nbformat": 4,
  "nbformat_minor": 0,
  "metadata": {
    "colab": {
      "provenance": []
    },
    "kernelspec": {
      "name": "python3",
      "display_name": "Python 3"
    },
    "language_info": {
      "name": "python"
    }
  },
  "cells": [
    {
      "cell_type": "markdown",
      "source": [
        " ## **Name - Aayush Hemant Patil**\n",
        "\n",
        "# *SE-42*\n"
      ],
      "metadata": {
        "id": "Fhxp1qpYYB6u"
      }
    },
    {
      "cell_type": "code",
      "source": [
        "You are given a large log file containing various system events. Each line in the log file follows this format:\n",
        "                    [YYYY-MM-DD HH:MM:SS] [LOG_LEVEL] [MODULE] Message\n",
        "where:\n",
        "• YYYY-MM-DD HH:MM:SS is a timestamp.\n",
        "• LOG_LEVEL can be INFO, WARN, ERROR, or DEBUG.\n",
        "• MODULE represents the system module name (alphanumeric, can contain underscores).\n",
        "• Message is the actual log message (it may contain any characters).\n",
        "\n",
        "Your Task\n",
        "Write a function extract_critical_errors(log_data: str) -> list[tuple] that takes a multiline string log_data (containing log entries) and returns a list of tuples containing:\n",
        "1. The timestamp\n",
        "2. The module name\n",
        "3. The error message\n",
        "\n",
        "BUT only if:\n",
        "• The LOG_LEVEL is ERROR.\n",
        "• The message contains at least one IP address in IPv4 format (xxx.xxx.xxx.xxx, where xxx is in the range 0-255).\n",
        "• The message contains a hexadecimal error code, formatted as 0x followed by exactly 8 hexadecimal digits (0-9, A-F).\n",
        "\n",
        "Example Input\n",
        "[2025-02-10 14:23:01] [INFO] [Auth_Module] User login successful.\n",
        "[2025-02-10 15:45:32] [ERROR] [Net_Module] Connection timeout from 192.168.1.10. Error Code: 0xAB12CD34\n",
        "[2025-02-10 16:01:10] [WARN] [Disk_Module] Low disk space warning.\n",
        "[2025-02-10 17:12:05] [ERROR] [Security_Module] Unauthorized access detected from 10.0.0.5. Error Code: 0xDEADBEEF\n",
        "\n",
        "Expected Output\n",
        "[\n",
        "(’2025-02-10 15:45:32’, ’Net_Module’, ’Connection timeout from 192.168.1.10. Error Code: 0xAB12CD34’),\n",
        "(’2025-02-10 17:12:05’, ’Security_Module’, ’Unauthorized access detected from 10.0.0.5. Error Code: 0xDEADBEEF’)\n",
        "]\n",
        "\n",
        "Constraints\n",
        "• Your function must use one single regex pattern to extract the required information.\n",
        "• You cannot use multiple regex calls; the full extraction must be done in one pass using re.findall() or re.finditer().\n",
        "• Assume log_data contains multiple lines.\n",
        "• Make your regex IP-matching strict, ensuring that invalid IPs (e.g., 256.100.10.10) are not mistakenly matched. (Optional)\n"
      ],
      "metadata": {
        "id": "rvllzL4uXulP"
      },
      "execution_count": null,
      "outputs": []
    },
    {
      "cell_type": "code",
      "execution_count": 1,
      "metadata": {
        "colab": {
          "base_uri": "https://localhost:8080/"
        },
        "id": "D5sTJ2mXXm3-",
        "outputId": "46802413-31e9-4a4a-8cfc-478b4a800f5b"
      },
      "outputs": [
        {
          "output_type": "stream",
          "name": "stdout",
          "text": [
            "[('2025-02-10 15:45:32', 'Net_Module', 'Connection timeout from 192.168.1.10. Error Code: 0xAB12CD34'), ('2025-02-10 17:12:05', 'Security_Module', 'Unauthorized access detected from 10.0.0.5. Error Code: 0xDEADBEEF')]\n"
          ]
        }
      ],
      "source": [
        "import re\n",
        "\n",
        "def extract_critical_errors(log_data: str) -> list[tuple]:\n",
        "    pattern = r\"\\[(\\d{4}-\\d{2}-\\d{2} \\d{2}:\\d{2}:\\d{2})\\] \\[ERROR\\] \\[(\\w+)\\] (.*?(?:\\d{1,3}\\.\\d{1,3}\\.\\d{1,3}\\.\\d{1,3}).*?0x[A-Fa-f0-9]{8})\"\n",
        "    matches = re.findall(pattern, log_data, re.MULTILINE)\n",
        "    return matches\n",
        "\n",
        "log_data = \"\"\"[2025-02-10 14:23:01] [INFO] [Auth_Module] User login successful.\n",
        "[2025-02-10 15:45:32] [ERROR] [Net_Module] Connection timeout from 192.168.1.10. Error Code: 0xAB12CD34\n",
        "[2025-02-10 16:01:10] [WARN] [Disk_Module] Low disk space warning.\n",
        "[2025-02-10 17:12:05] [ERROR] [Security_Module] Unauthorized access detected from 10.0.0.5. Error Code: 0xDEADBEEF\"\"\"\n",
        "\n",
        "print(extract_critical_errors(log_data))"
      ]
    }
  ]
}