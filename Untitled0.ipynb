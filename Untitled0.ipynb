{
  "nbformat": 4,
  "nbformat_minor": 0,
  "metadata": {
    "colab": {
      "provenance": []
    },
    "kernelspec": {
      "name": "python3",
      "display_name": "Python 3"
    },
    "language_info": {
      "name": "python"
    }
  },
  "cells": [
    {
      "cell_type": "code",
      "execution_count": 53,
      "metadata": {
        "colab": {
          "base_uri": "https://localhost:8080/"
        },
        "id": "FRKu9CX1Ct-b",
        "outputId": "84477975-24f2-453e-8bad-3453e8733436"
      },
      "outputs": [
        {
          "output_type": "stream",
          "name": "stdout",
          "text": [
            "Aayush Patil\n",
            "SE AIDS 42\n",
            "Vidyavardhini College of Enginerring and Technology\n"
          ]
        }
      ],
      "source": [
        "# Assigning string to a variable\n",
        "a = 'Aayush Patil'\n",
        "print (a)\n",
        "b = \"SE AIDS 42\"\n",
        "print (b)\n",
        "c= '''Vidyavardhini College of Enginerring and Technology'''\n",
        "print (c)"
      ]
    },
    {
      "cell_type": "code",
      "source": [
        "# Declaring a list\n",
        "L = [1, \"a\" , \"string\" , 1+2]\n",
        "print (L)\n",
        "#Adding an element in the list\n",
        "L.append(6)\n",
        "print (L)\n",
        "#Deleting last element from a list\n",
        "L.pop()\n",
        "print (L)\n",
        "#Displaying Second element of the list\n",
        "print (L[1])"
      ],
      "metadata": {
        "colab": {
          "base_uri": "https://localhost:8080/"
        },
        "id": "lv9-_8tNDl81",
        "outputId": "25971cc9-b98e-40de-b04c-7c8ca52b8d29"
      },
      "execution_count": 2,
      "outputs": [
        {
          "output_type": "stream",
          "name": "stdout",
          "text": [
            "[1, 'a', 'string', 3]\n",
            "[1, 'a', 'string', 3, 6]\n",
            "[1, 'a', 'string', 3]\n",
            "a\n"
          ]
        }
      ]
    },
    {
      "cell_type": "markdown",
      "source": [],
      "metadata": {
        "id": "nMJ9i5Z8G05q"
      }
    },
    {
      "cell_type": "code",
      "source": [
        "tup = (1, \"a\", \"string\", 1+2)\n",
        "print(tup)\n",
        "print(tup[1])"
      ],
      "metadata": {
        "colab": {
          "base_uri": "https://localhost:8080/"
        },
        "id": "SJfF6eJvLAzQ",
        "outputId": "daa3122d-31d0-40a7-d14a-cabace1cd9f2"
      },
      "execution_count": 45,
      "outputs": [
        {
          "output_type": "stream",
          "name": "stdout",
          "text": [
            "(1, 'a', 'string', 3)\n",
            "a\n"
          ]
        }
      ]
    },
    {
      "cell_type": "code",
      "source": [
        "d = {1: 'Lorem', 2: 'Ipsum', 3: 'Dolerum'}\n",
        "print(d)"
      ],
      "metadata": {
        "colab": {
          "base_uri": "https://localhost:8080/"
        },
        "id": "gtmE7kCzKveJ",
        "outputId": "d4fa3192-2b3a-4881-f3b0-f7a07149bdc3"
      },
      "execution_count": 46,
      "outputs": [
        {
          "output_type": "stream",
          "name": "stdout",
          "text": [
            "{1: 'Lorem', 2: 'Ipsum', 3: 'Dolerum'}\n"
          ]
        }
      ]
    },
    {
      "cell_type": "code",
      "source": [
        "# create dictionary using { }\n",
        "d1 = {1: 'Game', 2: 'of', 3: 'Thrones'}\n",
        "print(d1)\n",
        "\n",
        "# create dictionary using dict() constructor\n",
        "d2 = dict(a = \"House\", b = \"of\", c = \"Cards\")\n",
        "print(d2)"
      ],
      "metadata": {
        "colab": {
          "base_uri": "https://localhost:8080/"
        },
        "id": "RyWdKxHGLR-5",
        "outputId": "f8402950-0c57-4afa-f8aa-be75f507ea39"
      },
      "execution_count": 47,
      "outputs": [
        {
          "output_type": "stream",
          "name": "stdout",
          "text": [
            "{1: 'Game', 2: 'of', 3: 'Thrones'}\n",
            "{'a': 'House', 'b': 'of', 'c': 'Cards'}\n"
          ]
        }
      ]
    },
    {
      "cell_type": "code",
      "source": [
        "d = { \"name\": \"Alice\", 1: \"Python\", (1, 2): [1,2,4] }\n",
        "\n",
        "# Access using key\n",
        "print(d[\"name\"])\n",
        "\n",
        "# Access using get()\n",
        "print(d.get(\"name\"))"
      ],
      "metadata": {
        "colab": {
          "base_uri": "https://localhost:8080/"
        },
        "id": "rU3FmJULLUtQ",
        "outputId": "074d4a72-0bb6-4ee1-db9c-7708bab46f24"
      },
      "execution_count": 48,
      "outputs": [
        {
          "output_type": "stream",
          "name": "stdout",
          "text": [
            "Alice\n",
            "Alice\n"
          ]
        }
      ]
    },
    {
      "cell_type": "code",
      "source": [
        "d = {1: 'Game', 2: 'of', 3: 'Thrones'}\n",
        "\n",
        "# Adding a new key-value pair\n",
        "d[\"age\"] = 22\n",
        "\n",
        "# Updating an existing value\n",
        "d[1] = \"Python dict\"\n",
        "\n",
        "print(d)"
      ],
      "metadata": {
        "colab": {
          "base_uri": "https://localhost:8080/"
        },
        "id": "qj_eIbfoLV3Y",
        "outputId": "14d17478-b10d-470f-c081-c46af25502b6"
      },
      "execution_count": 49,
      "outputs": [
        {
          "output_type": "stream",
          "name": "stdout",
          "text": [
            "{1: 'Python dict', 2: 'of', 3: 'Thrones', 'age': 22}\n"
          ]
        }
      ]
    },
    {
      "cell_type": "code",
      "source": [
        "#name = \"Aayush\"\n",
        "#age = 20  # Convert to integer, not a string\n",
        "\n",
        "name = input(\"Enter your name: \")\n",
        "age = int(input(\"Enter your age: \"))\n",
        "\n",
        "def greet_user(name):\n",
        "    return f\"Kasa ahes re bhava, {name}!\"\n",
        "\n",
        "# Conditional to check age\n",
        "if age <= 18:\n",
        "    adult_status = \"You are an minor.\"\n",
        "elif age >= 18 and age <= 60:\n",
        "    adult_status = \"You are a adult.\"\n",
        "elif age >=100 and age <= 200:\n",
        "     adult_status = \"You have been died\"\n",
        "else:\n",
        "    adult_status = \"You are senior citizen\"\n",
        "\n",
        "\n",
        "# Loop to greet user multiple times\n",
        "for i in range(2):\n",
        "    print(greet_user(name))\n",
        "\n",
        "# Print user details\n",
        "print(f\"Your name is {name}.\")\n",
        "print(f\"Your age is {age}.\")\n",
        "print(adult_status)\n",
        "\n"
      ],
      "metadata": {
        "colab": {
          "base_uri": "https://localhost:8080/"
        },
        "id": "-KN3MmbrG1Yi",
        "outputId": "11710062-0b46-4f60-d4b6-5935350bf802"
      },
      "execution_count": 52,
      "outputs": [
        {
          "output_type": "stream",
          "name": "stdout",
          "text": [
            "Enter your name: Aayush\n",
            "Enter your age: 200\n",
            "Kasa ahes re bhava, Aayush!\n",
            "Kasa ahes re bhava, Aayush!\n",
            "Your name is Aayush.\n",
            "Your age is 200.\n",
            "You have been died\n"
          ]
        }
      ]
    }
  ]
}